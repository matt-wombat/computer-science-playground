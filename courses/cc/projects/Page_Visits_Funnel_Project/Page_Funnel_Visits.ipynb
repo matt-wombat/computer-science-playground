{
 "cells": [
  {
   "cell_type": "code",
   "execution_count": 1,
   "metadata": {},
   "outputs": [],
   "source": [
    "import pandas as pd"
   ]
  },
  {
   "cell_type": "markdown",
   "metadata": {},
   "source": [
    "Import all the files"
   ]
  },
  {
   "cell_type": "code",
   "execution_count": 2,
   "metadata": {},
   "outputs": [],
   "source": [
    "visits = pd.read_csv('visits.csv',\n",
    "                     parse_dates=[1])\n",
    "cart = pd.read_csv('cart.csv',\n",
    "                   parse_dates=[1])\n",
    "                   \n",
    "checkout = pd.read_csv('checkout.csv',\n",
    "                       parse_dates=[1])\n",
    "purchase = pd.read_csv('purchase.csv',\n",
    "                       parse_dates=[1])"
   ]
  },
  {
   "cell_type": "markdown",
   "metadata": {},
   "source": [
    "Step 1: Inspect the DataFrames using `print` and `head`"
   ]
  },
  {
   "cell_type": "code",
   "execution_count": 3,
   "metadata": {},
   "outputs": [
    {
     "name": "stdout",
     "output_type": "stream",
     "text": [
      "                                user_id          visit_time\n",
      "0  943647ef-3682-4750-a2e1-918ba6f16188 2017-04-07 15:14:00\n",
      "1  0c3a3dd0-fb64-4eac-bf84-ba069ce409f2 2017-01-26 14:24:00\n",
      "2  6e0b2d60-4027-4d9a-babd-0e7d40859fb1 2017-08-20 08:23:00\n",
      "3  6879527e-c5a6-4d14-b2da-50b85212b0ab 2017-11-04 18:15:00\n",
      "4  a84327ff-5daa-4ba1-b789-d5b4caf81e96 2017-02-27 11:25:00\n",
      "                                user_id           cart_time\n",
      "0  2be90e7c-9cca-44e0-bcc5-124b945ff168 2017-11-07 20:45:00\n",
      "1  4397f73f-1da3-4ab3-91af-762792e25973 2017-05-27 01:35:00\n",
      "2  a9db3d4b-0a0a-4398-a55a-ebb2c7adf663 2017-03-04 10:38:00\n",
      "3  b594862a-36c5-47d5-b818-6e9512b939b3 2017-09-27 08:22:00\n",
      "4  a68a16e2-94f0-4ce8-8ce3-784af0bbb974 2017-07-26 15:48:00\n",
      "                                user_id       checkout_time\n",
      "0  d33bdc47-4afa-45bc-b4e4-dbe948e34c0d 2017-06-25 09:29:00\n",
      "1  4ac186f0-9954-4fea-8a27-c081e428e34e 2017-04-07 20:11:00\n",
      "2  3c9c78a7-124a-4b77-8d2e-e1926e011e7d 2017-07-13 11:38:00\n",
      "3  89fe330a-8966-4756-8f7c-3bdbcd47279a 2017-04-20 16:15:00\n",
      "4  3ccdaf69-2d30-40de-b083-51372881aedd 2017-01-08 20:52:00\n",
      "                                user_id       purchase_time\n",
      "0  4b44ace4-2721-47a0-b24b-15fbfa2abf85 2017-05-11 04:25:00\n",
      "1  02e684ae-a448-408f-a9ff-dcb4a5c99aac 2017-09-05 08:45:00\n",
      "2  4b4bc391-749e-4b90-ab8f-4f6e3c84d6dc 2017-11-20 20:49:00\n",
      "3  a5dbb25f-3c36-4103-9030-9f7c6241cd8d 2017-01-22 15:18:00\n",
      "4  46a3186d-7f5a-4ab9-87af-84d05bfd4867 2017-06-11 11:32:00\n"
     ]
    }
   ],
   "source": [
    "print(visits.head(5))\n",
    "print(cart.head(5))\n",
    "print(checkout.head(5))\n",
    "print(purchase.head(5))"
   ]
  },
  {
   "cell_type": "markdown",
   "metadata": {},
   "source": [
    "Step 2: Left merging visits and cart"
   ]
  },
  {
   "cell_type": "code",
   "execution_count": 4,
   "metadata": {},
   "outputs": [],
   "source": [
    "visits_cart = visits.merge(cart, how='left')"
   ]
  },
  {
   "cell_type": "markdown",
   "metadata": {},
   "source": [
    "Step 3: How long is `visits_cart`?"
   ]
  },
  {
   "cell_type": "code",
   "execution_count": 8,
   "metadata": {},
   "outputs": [
    {
     "name": "stdout",
     "output_type": "stream",
     "text": [
      "<class 'pandas.core.frame.DataFrame'>\n",
      "Int64Index: 2000 entries, 0 to 1999\n",
      "Data columns (total 3 columns):\n",
      " #   Column      Non-Null Count  Dtype         \n",
      "---  ------      --------------  -----         \n",
      " 0   user_id     2000 non-null   object        \n",
      " 1   visit_time  2000 non-null   datetime64[ns]\n",
      " 2   cart_time   348 non-null    datetime64[ns]\n",
      "dtypes: datetime64[ns](2), object(1)\n",
      "memory usage: 62.5+ KB\n"
     ]
    },
    {
     "data": {
      "text/plain": [
       "2000"
      ]
     },
     "execution_count": 8,
     "metadata": {},
     "output_type": "execute_result"
    }
   ],
   "source": [
    "visits_cart.info()\n",
    "len(visits_cart)"
   ]
  },
  {
   "cell_type": "markdown",
   "metadata": {},
   "source": [
    "Step 4: How many timestamps are null for `cart_time`?"
   ]
  },
  {
   "cell_type": "code",
   "execution_count": 18,
   "metadata": {},
   "outputs": [
    {
     "data": {
      "text/plain": [
       "1652"
      ]
     },
     "execution_count": 18,
     "metadata": {},
     "output_type": "execute_result"
    }
   ],
   "source": [
    "len(visits_cart[visits_cart.cart_time.isnull()])"
   ]
  },
  {
   "cell_type": "markdown",
   "metadata": {},
   "source": [
    "Step 5: What percentage only visited?"
   ]
  },
  {
   "cell_type": "code",
   "execution_count": 19,
   "metadata": {},
   "outputs": [
    {
     "data": {
      "text/plain": [
       "82.6"
      ]
     },
     "execution_count": 19,
     "metadata": {},
     "output_type": "execute_result"
    }
   ],
   "source": [
    "len(visits_cart[visits_cart.cart_time.isnull()]) / len(visits_cart) * 100"
   ]
  },
  {
   "cell_type": "markdown",
   "metadata": {},
   "source": [
    "Step 6: What percentage placed a t-shirt in their cart but did not checkout?"
   ]
  },
  {
   "cell_type": "code",
   "execution_count": 24,
   "metadata": {},
   "outputs": [
    {
     "name": "stdout",
     "output_type": "stream",
     "text": [
      "                                 user_id           cart_time  \\\n",
      "0   2be90e7c-9cca-44e0-bcc5-124b945ff168 2017-11-07 20:45:00   \n",
      "1   4397f73f-1da3-4ab3-91af-762792e25973 2017-05-27 01:35:00   \n",
      "2   a9db3d4b-0a0a-4398-a55a-ebb2c7adf663 2017-03-04 10:38:00   \n",
      "3   b594862a-36c5-47d5-b818-6e9512b939b3 2017-09-27 08:22:00   \n",
      "4   a68a16e2-94f0-4ce8-8ce3-784af0bbb974 2017-07-26 15:48:00   \n",
      "5   0c998868-9961-490b-8ec2-9981ba667027 2017-11-27 08:54:00   \n",
      "6   f783c680-1d9a-437d-9f45-7827299b78fa 2017-06-25 08:08:00   \n",
      "7   f3dd7631-3cf6-4d49-9c6e-b48eda4432b5 2017-01-04 09:57:00   \n",
      "8   4cdd357a-199e-4d81-ae9e-7252fa34ee0f 2017-05-23 22:25:00   \n",
      "9   3c3460b3-a56d-4d92-908d-29dcca34db18 2017-01-06 14:56:00   \n",
      "10  fd80ce93-ae6e-4c0b-9ea4-561f84152026 2017-06-07 01:18:00   \n",
      "11  dec63120-f40f-4bd1-b53d-45b07709f0dc 2017-01-21 09:56:00   \n",
      "12  d24cec40-b66a-47ad-afb1-aa19b00eab53 2017-05-16 08:21:00   \n",
      "13  ff2f2aef-6ca8-45a1-9ae7-46ebdbd81c3c 2017-11-09 12:06:00   \n",
      "14  5560ba27-4e5f-4523-9b34-a80162a826e5 2017-04-22 14:35:00   \n",
      "15  5c654a76-fb7e-4e4f-879b-a9543426a5dd 2017-07-19 18:20:00   \n",
      "16  587456c0-fdc4-4aea-bd18-7fc854bc0f81 2017-06-03 03:19:00   \n",
      "17  4b44ace4-2721-47a0-b24b-15fbfa2abf85 2017-05-11 03:54:00   \n",
      "18  0182a7b9-2099-4476-8f7d-51f2c2f71dff 2017-09-08 16:34:00   \n",
      "19  48a23075-694b-417d-8449-9df921ad95aa 2017-07-09 15:28:00   \n",
      "\n",
      "         checkout_time  \n",
      "0  2017-11-07 21:14:00  \n",
      "1                  NaT  \n",
      "2  2017-03-04 11:04:00  \n",
      "3  2017-09-27 08:26:00  \n",
      "4                  NaT  \n",
      "5  2017-11-27 09:18:00  \n",
      "6  2017-06-25 08:28:00  \n",
      "7  2017-01-04 10:20:00  \n",
      "8  2017-05-23 22:54:00  \n",
      "9  2017-01-06 15:06:00  \n",
      "10                 NaT  \n",
      "11 2017-01-21 10:19:00  \n",
      "12 2017-05-16 08:32:00  \n",
      "13 2017-11-09 12:14:00  \n",
      "14 2017-04-22 15:00:00  \n",
      "15 2017-07-19 18:47:00  \n",
      "16 2017-06-03 03:43:00  \n",
      "17 2017-05-11 03:54:00  \n",
      "18 2017-09-08 16:59:00  \n",
      "19                 NaT  \n"
     ]
    },
    {
     "data": {
      "text/plain": [
       "35.05747126436782"
      ]
     },
     "execution_count": 24,
     "metadata": {},
     "output_type": "execute_result"
    }
   ],
   "source": [
    "cart_checkout = cart.merge(checkout, how=\"left\")\n",
    "\n",
    "print(cart_checkout.head(20))\n",
    "\n",
    "len(cart_checkout[cart_checkout.checkout_time.isnull()]) / len(cart) * 100\n",
    "\n"
   ]
  },
  {
   "cell_type": "markdown",
   "metadata": {},
   "source": [
    "Step 7: Merge it all together"
   ]
  },
  {
   "cell_type": "code",
   "execution_count": 29,
   "metadata": {},
   "outputs": [
    {
     "name": "stdout",
     "output_type": "stream",
     "text": [
      "                                 user_id          visit_time  \\\n",
      "0   943647ef-3682-4750-a2e1-918ba6f16188 2017-04-07 15:14:00   \n",
      "1   0c3a3dd0-fb64-4eac-bf84-ba069ce409f2 2017-01-26 14:24:00   \n",
      "2   6e0b2d60-4027-4d9a-babd-0e7d40859fb1 2017-08-20 08:23:00   \n",
      "3   6879527e-c5a6-4d14-b2da-50b85212b0ab 2017-11-04 18:15:00   \n",
      "4   a84327ff-5daa-4ba1-b789-d5b4caf81e96 2017-02-27 11:25:00   \n",
      "5   7bc62113-d51d-4e6b-85e0-1cf29e3de74a 2017-06-03 20:05:00   \n",
      "6   6f22cd44-bc63-4449-a9af-2651859da2f9 2017-03-18 23:09:00   \n",
      "7   49a6399b-c095-4e42-92eb-af90abe2bb6a 2017-01-10 12:09:00   \n",
      "8   653c095d-fd74-40dd-ae3b-5a69a2613629 2017-06-27 19:21:00   \n",
      "9   3d9fdac1-aae3-4a01-b448-934d12047468 2017-09-24 06:43:00   \n",
      "10  1955acc9-5228-4277-beed-fd23f0f355b3 2017-04-20 23:01:00   \n",
      "11  a627ba57-b34d-4166-8b78-1ff3f46f5478 2017-08-11 13:41:00   \n",
      "12  10d5a3e0-1d72-4bea-9670-f0f0234d6e48 2017-02-26 10:09:00   \n",
      "13  0c1fa5fe-27c1-4e1f-b353-26a428da2832 2017-07-04 09:56:00   \n",
      "14  486480e2-98c3-4d51-8f4b-b1c07228ce84 2017-01-27 16:34:00   \n",
      "15  2f954f3f-e621-4be2-9d3f-e9dc8afe38dd 2017-10-19 03:22:00   \n",
      "16  7a3030d1-37a4-4ed1-a410-84f50f991903 2017-09-05 18:27:00   \n",
      "17  d8b14a61-cc64-4e56-be6e-cd8d3b35eece 2017-08-22 15:55:00   \n",
      "18  a9e73e1a-0fd1-4514-b163-03a76a216069 2017-04-02 06:40:00   \n",
      "19  335fe581-92e1-4f3c-a5f4-2600f50007a9 2017-11-08 14:39:00   \n",
      "20  50840100-eccb-44f7-b3f1-c7a108456603 2017-09-27 10:17:00   \n",
      "21  d1e1de15-8eda-4b63-a584-5d205d32544e 2017-02-16 22:10:00   \n",
      "22  0a761369-3fed-4eb9-a14a-dd4e0f0e1741 2017-02-03 15:31:00   \n",
      "23  c190b70e-ff9f-4e76-bfb9-eb9a5e54a7e7 2017-08-11 09:27:00   \n",
      "24  c02a4dbb-8e6e-4296-b73b-4e8896f7ab35 2017-05-13 11:25:00   \n",
      "25  d798d0a0-cf1a-4f08-aec8-454d60ef8330 2017-11-11 14:49:00   \n",
      "26  38a610b6-3734-448a-a352-531c7a7a55e8 2017-07-23 23:05:00   \n",
      "27  b5e01ff4-73dc-4e02-ab93-a635918099c6 2017-07-26 18:07:00   \n",
      "28  5b64bd11-749b-42bf-abe8-babddfa1c085 2017-07-25 07:03:00   \n",
      "29  aaef3da8-662f-424d-9a72-f0eb6063c508 2017-07-26 09:46:00   \n",
      "30  7f57132e-1368-4b4a-87d2-2cd3218710c3 2017-04-14 19:20:00   \n",
      "31  1868e912-b38c-4ef0-8824-5665c42288e5 2017-03-17 11:48:00   \n",
      "32  4d4396f0-63d8-4a7a-8bf1-1229725ab8bd 2017-09-27 23:45:00   \n",
      "33  581f5615-178c-46f5-bc88-eaec0fe7d2b2 2017-07-15 15:56:00   \n",
      "34  14179b52-57c8-4892-90aa-85673ee330fe 2017-02-19 07:34:00   \n",
      "35  3419b0c0-5aef-469f-afcf-f1464388fa33 2017-01-15 02:27:00   \n",
      "36  9247d041-4e89-4aaf-9cdf-ea10fc120ef4 2017-11-10 21:44:00   \n",
      "37  6d11f38d-03f5-486e-a62d-e05a2e39786b 2017-09-15 16:08:00   \n",
      "38  b588b160-830a-4b1e-bbe2-5e0f4755c7fd 2017-08-05 19:37:00   \n",
      "39  f8ed4a4e-c731-4d41-9533-2bce5b6be6d0 2017-07-14 14:58:00   \n",
      "40  08ea3430-6981-4cff-9ad0-c86584ea7360 2017-09-02 19:51:00   \n",
      "41  6943839c-b050-4e08-b636-3b68c3cdcddd 2017-02-15 10:28:00   \n",
      "42  9550c802-6506-4dfe-bbe6-f3a69783217e 2017-01-04 09:28:00   \n",
      "43  ccae2d88-5b2c-40ff-9d93-c2f52b4ab575 2017-06-08 15:17:00   \n",
      "44  34238bb6-e037-4354-8121-8749ec58ef32 2017-08-24 19:12:00   \n",
      "45  f18654b0-98f4-4f65-a7c1-905c4bd4a16c 2017-03-05 03:03:00   \n",
      "46  f71475c2-5da3-445d-8b0e-5ab281fb655d 2017-11-22 11:28:00   \n",
      "47  27356916-b752-4b95-bc8c-f5901d0da968 2017-04-27 12:34:00   \n",
      "48  3ccdaf69-2d30-40de-b083-51372881aedd 2017-01-08 20:21:00   \n",
      "49  3ccdaf69-2d30-40de-b083-51372881aedd 2017-01-08 20:21:00   \n",
      "\n",
      "             cart_time       checkout_time       purchase_time  \n",
      "0                  NaT                 NaT                 NaT  \n",
      "1  2017-01-26 14:44:00 2017-01-26 14:54:00 2017-01-26 15:08:00  \n",
      "2  2017-08-20 08:31:00                 NaT                 NaT  \n",
      "3                  NaT                 NaT                 NaT  \n",
      "4                  NaT                 NaT                 NaT  \n",
      "5                  NaT                 NaT                 NaT  \n",
      "6                  NaT                 NaT                 NaT  \n",
      "7                  NaT                 NaT                 NaT  \n",
      "8                  NaT                 NaT                 NaT  \n",
      "9                  NaT                 NaT                 NaT  \n",
      "10                 NaT                 NaT                 NaT  \n",
      "11                 NaT                 NaT                 NaT  \n",
      "12                 NaT                 NaT                 NaT  \n",
      "13                 NaT                 NaT                 NaT  \n",
      "14 2017-01-27 16:44:00 2017-01-27 17:10:00 2017-01-27 17:12:00  \n",
      "15                 NaT                 NaT                 NaT  \n",
      "16                 NaT                 NaT                 NaT  \n",
      "17                 NaT                 NaT                 NaT  \n",
      "18                 NaT                 NaT                 NaT  \n",
      "19                 NaT                 NaT                 NaT  \n",
      "20                 NaT                 NaT                 NaT  \n",
      "21                 NaT                 NaT                 NaT  \n",
      "22                 NaT                 NaT                 NaT  \n",
      "23                 NaT                 NaT                 NaT  \n",
      "24                 NaT                 NaT                 NaT  \n",
      "25                 NaT                 NaT                 NaT  \n",
      "26                 NaT                 NaT                 NaT  \n",
      "27                 NaT                 NaT                 NaT  \n",
      "28                 NaT                 NaT                 NaT  \n",
      "29                 NaT                 NaT                 NaT  \n",
      "30                 NaT                 NaT                 NaT  \n",
      "31 2017-03-17 11:56:00 2017-03-17 11:58:00                 NaT  \n",
      "32                 NaT                 NaT                 NaT  \n",
      "33                 NaT                 NaT                 NaT  \n",
      "34                 NaT                 NaT                 NaT  \n",
      "35                 NaT                 NaT                 NaT  \n",
      "36                 NaT                 NaT                 NaT  \n",
      "37 2017-09-15 16:30:00                 NaT                 NaT  \n",
      "38                 NaT                 NaT                 NaT  \n",
      "39                 NaT                 NaT                 NaT  \n",
      "40                 NaT                 NaT                 NaT  \n",
      "41                 NaT                 NaT                 NaT  \n",
      "42                 NaT                 NaT                 NaT  \n",
      "43                 NaT                 NaT                 NaT  \n",
      "44                 NaT                 NaT                 NaT  \n",
      "45                 NaT                 NaT                 NaT  \n",
      "46                 NaT                 NaT                 NaT  \n",
      "47                 NaT                 NaT                 NaT  \n",
      "48 2017-01-08 20:38:00 2017-01-08 20:52:00 2017-01-08 21:02:00  \n",
      "49 2017-01-08 20:38:00 2017-01-08 20:52:00 2017-01-08 21:21:00  \n"
     ]
    }
   ],
   "source": [
    "all_data = visits_cart.merge(checkout, how=\"left\").merge(purchase, how=\"left\")\n",
    "print(all_data.head(50))\n"
   ]
  },
  {
   "cell_type": "markdown",
   "metadata": {},
   "source": [
    "Step 8: % of users who got to checkout but did not purchase"
   ]
  },
  {
   "cell_type": "code",
   "execution_count": 41,
   "metadata": {},
   "outputs": [
    {
     "data": {
      "text/plain": [
       "24.55089820359282"
      ]
     },
     "execution_count": 41,
     "metadata": {},
     "output_type": "execute_result"
    }
   ],
   "source": [
    "(1 - len(all_data[all_data.purchase_time.notnull()]) / len(all_data[all_data.checkout_time.notnull()])) * 100"
   ]
  },
  {
   "cell_type": "markdown",
   "metadata": {},
   "source": [
    "Step 9: check each part of the funnel, let's print all 3 of them again"
   ]
  },
  {
   "cell_type": "code",
   "execution_count": 44,
   "metadata": {},
   "outputs": [
    {
     "name": "stdout",
     "output_type": "stream",
     "text": [
      "Visitors without Cart: 82.6\n",
      "Cart not checked out: 35.05747126436782\n",
      "Checked out but not purchased: 24.55089820359282\n"
     ]
    }
   ],
   "source": [
    "print('Visitors without Cart:', len(visits_cart[visits_cart.cart_time.isnull()]) / len(visits_cart) * 100)\n",
    "print('Cart not checked out:', len(cart_checkout[cart_checkout.checkout_time.isnull()]) / len(cart) * 100)\n",
    "print('Checked out but not purchased:', (1 - len(all_data[all_data.purchase_time.notnull()]) / len(all_data[all_data.checkout_time.notnull()])) * 100)"
   ]
  },
  {
   "cell_type": "markdown",
   "metadata": {},
   "source": [
    "*The weakest part of the funnel is clearly getting a person who visited the site to add a tshirt to their cart. Once they've added a t-shirt to their cart it is fairly likely they end up purchasing it. A suggestion could be to make the add-to-cart button more prominent on the front page.*\n",
    "\n",
    "\n",
    "Step 10: adding new column"
   ]
  },
  {
   "cell_type": "code",
   "execution_count": 51,
   "metadata": {},
   "outputs": [],
   "source": [
    "all_data['buying_time'] = all_data['purchase_time'] - all_data['visit_time']"
   ]
  },
  {
   "cell_type": "markdown",
   "metadata": {},
   "source": [
    "Step 11: examine the results"
   ]
  },
  {
   "cell_type": "code",
   "execution_count": 52,
   "metadata": {},
   "outputs": [
    {
     "name": "stdout",
     "output_type": "stream",
     "text": [
      "                                 user_id     buying_time\n",
      "0   943647ef-3682-4750-a2e1-918ba6f16188             NaT\n",
      "1   0c3a3dd0-fb64-4eac-bf84-ba069ce409f2 0 days 00:44:00\n",
      "2   6e0b2d60-4027-4d9a-babd-0e7d40859fb1             NaT\n",
      "3   6879527e-c5a6-4d14-b2da-50b85212b0ab             NaT\n",
      "4   a84327ff-5daa-4ba1-b789-d5b4caf81e96             NaT\n",
      "5   7bc62113-d51d-4e6b-85e0-1cf29e3de74a             NaT\n",
      "6   6f22cd44-bc63-4449-a9af-2651859da2f9             NaT\n",
      "7   49a6399b-c095-4e42-92eb-af90abe2bb6a             NaT\n",
      "8   653c095d-fd74-40dd-ae3b-5a69a2613629             NaT\n",
      "9   3d9fdac1-aae3-4a01-b448-934d12047468             NaT\n",
      "10  1955acc9-5228-4277-beed-fd23f0f355b3             NaT\n",
      "11  a627ba57-b34d-4166-8b78-1ff3f46f5478             NaT\n",
      "12  10d5a3e0-1d72-4bea-9670-f0f0234d6e48             NaT\n",
      "13  0c1fa5fe-27c1-4e1f-b353-26a428da2832             NaT\n",
      "14  486480e2-98c3-4d51-8f4b-b1c07228ce84 0 days 00:38:00\n",
      "15  2f954f3f-e621-4be2-9d3f-e9dc8afe38dd             NaT\n",
      "16  7a3030d1-37a4-4ed1-a410-84f50f991903             NaT\n",
      "17  d8b14a61-cc64-4e56-be6e-cd8d3b35eece             NaT\n",
      "18  a9e73e1a-0fd1-4514-b163-03a76a216069             NaT\n",
      "19  335fe581-92e1-4f3c-a5f4-2600f50007a9             NaT\n",
      "20  50840100-eccb-44f7-b3f1-c7a108456603             NaT\n",
      "21  d1e1de15-8eda-4b63-a584-5d205d32544e             NaT\n",
      "22  0a761369-3fed-4eb9-a14a-dd4e0f0e1741             NaT\n",
      "23  c190b70e-ff9f-4e76-bfb9-eb9a5e54a7e7             NaT\n",
      "24  c02a4dbb-8e6e-4296-b73b-4e8896f7ab35             NaT\n",
      "25  d798d0a0-cf1a-4f08-aec8-454d60ef8330             NaT\n",
      "26  38a610b6-3734-448a-a352-531c7a7a55e8             NaT\n",
      "27  b5e01ff4-73dc-4e02-ab93-a635918099c6             NaT\n",
      "28  5b64bd11-749b-42bf-abe8-babddfa1c085             NaT\n",
      "29  aaef3da8-662f-424d-9a72-f0eb6063c508             NaT\n",
      "30  7f57132e-1368-4b4a-87d2-2cd3218710c3             NaT\n",
      "31  1868e912-b38c-4ef0-8824-5665c42288e5             NaT\n",
      "32  4d4396f0-63d8-4a7a-8bf1-1229725ab8bd             NaT\n",
      "33  581f5615-178c-46f5-bc88-eaec0fe7d2b2             NaT\n",
      "34  14179b52-57c8-4892-90aa-85673ee330fe             NaT\n",
      "35  3419b0c0-5aef-469f-afcf-f1464388fa33             NaT\n",
      "36  9247d041-4e89-4aaf-9cdf-ea10fc120ef4             NaT\n",
      "37  6d11f38d-03f5-486e-a62d-e05a2e39786b             NaT\n",
      "38  b588b160-830a-4b1e-bbe2-5e0f4755c7fd             NaT\n",
      "39  f8ed4a4e-c731-4d41-9533-2bce5b6be6d0             NaT\n",
      "40  08ea3430-6981-4cff-9ad0-c86584ea7360             NaT\n",
      "41  6943839c-b050-4e08-b636-3b68c3cdcddd             NaT\n",
      "42  9550c802-6506-4dfe-bbe6-f3a69783217e             NaT\n",
      "43  ccae2d88-5b2c-40ff-9d93-c2f52b4ab575             NaT\n",
      "44  34238bb6-e037-4354-8121-8749ec58ef32             NaT\n",
      "45  f18654b0-98f4-4f65-a7c1-905c4bd4a16c             NaT\n",
      "46  f71475c2-5da3-445d-8b0e-5ab281fb655d             NaT\n",
      "47  27356916-b752-4b95-bc8c-f5901d0da968             NaT\n",
      "48  3ccdaf69-2d30-40de-b083-51372881aedd 0 days 00:41:00\n",
      "49  3ccdaf69-2d30-40de-b083-51372881aedd 0 days 01:00:00\n"
     ]
    }
   ],
   "source": [
    "print(all_data[['user_id', 'buying_time']].head(50))"
   ]
  },
  {
   "cell_type": "markdown",
   "metadata": {},
   "source": [
    "Step 12: average time to purchase"
   ]
  },
  {
   "cell_type": "code",
   "execution_count": 58,
   "metadata": {},
   "outputs": [
    {
     "data": {
      "text/plain": [
       "Timedelta('0 days 00:43:12.380952380')"
      ]
     },
     "execution_count": 58,
     "metadata": {},
     "output_type": "execute_result"
    }
   ],
   "source": [
    "all_data.buying_time.mean()"
   ]
  },
  {
   "cell_type": "code",
   "execution_count": null,
   "metadata": {},
   "outputs": [],
   "source": []
  }
 ],
 "metadata": {
  "kernelspec": {
   "display_name": "Python 3 (ipykernel)",
   "language": "python",
   "name": "python3"
  },
  "language_info": {
   "codemirror_mode": {
    "name": "ipython",
    "version": 3
   },
   "file_extension": ".py",
   "mimetype": "text/x-python",
   "name": "python",
   "nbconvert_exporter": "python",
   "pygments_lexer": "ipython3",
   "version": "3.11.2"
  }
 },
 "nbformat": 4,
 "nbformat_minor": 4
}
