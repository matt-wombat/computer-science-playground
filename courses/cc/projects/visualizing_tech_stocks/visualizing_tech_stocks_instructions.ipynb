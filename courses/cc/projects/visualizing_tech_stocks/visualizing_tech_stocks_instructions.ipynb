{
 "cells": [
  {
   "attachments": {},
   "cell_type": "markdown",
   "metadata": {},
   "source": [
    "## Visualizing Tech Stocks"
   ]
  },
  {
   "attachments": {},
   "cell_type": "markdown",
   "metadata": {},
   "source": [
    "In this project you will analyze and visualize the top 5 highest valued technology stocks, as of the end of the first half of 2023:\n",
    "* Microsoft (NASDAQ:MSFT)\n",
    "* Amazon (NASDAQ:AMZN)\n",
    "* Apple (NASDAQ:AAPL)\n",
    "* Alphabet (NASDAQ:GOOGL)\n",
    "* Meta (NASDAQ:META).\n",
    "\n",
    "Using Pandas, yfinance, and Matplotlib, you will take a visual look into the similarities and differences between these stocks during the six month period from January through June 2023. In your analysis you will perform the following:\n",
    "1. Visualize the stock prices using matplotlib\n",
    "2. Calculate and visualize the daily simple rate of return \n",
    "3. Calculate and visualize the mean rates of return\n",
    "4. Calculate and visualize the variances of the returns\n",
    "5. Calculate and visualize the standard deviations of the returns\n",
    "6. Write a short thesis based on the correlations between the tech stocks"
   ]
  },
  {
   "attachments": {},
   "cell_type": "markdown",
   "metadata": {},
   "source": [
    "### 1. Import Packages"
   ]
  },
  {
   "attachments": {},
   "cell_type": "markdown",
   "metadata": {},
   "source": [
    "#### Step 1: Import Data Manipulation Packages\n",
    "Import the pandas and numpy module as `pd` and `np`, respectively"
   ]
  },
  {
   "cell_type": "code",
   "execution_count": 2,
   "metadata": {
    "ExecuteTime": {
     "end_time": "2019-09-20T17:07:04.003420Z",
     "start_time": "2019-09-20T17:07:03.119028Z"
    }
   },
   "outputs": [],
   "source": [
    "import pandas as pd\n",
    "import numpy as np"
   ]
  },
  {
   "attachments": {},
   "cell_type": "markdown",
   "metadata": {},
   "source": [
    "#### Step 2: Import Financial Package\n",
    "Import the `yfinance` module as `yf`. (you can install the `yfinance` package by entering `pip3 install yfinance` in the command line or `!pip3 install yfinance` in the Jupyter Notebook)\n",
    "\n",
    "You can learn more about the yfinance package by visiting its [github homepage](https://github.com/ranaroussi/yfinance#readme). Also take a look at the [dependency requirements](https://github.com/ranaroussi/yfinance#requirements) to check that your Python, Pandas, and Numpy versions are compatible for working with yfinance."
   ]
  },
  {
   "cell_type": "code",
   "execution_count": 3,
   "metadata": {
    "ExecuteTime": {
     "end_time": "2019-09-20T17:09:14.195426Z",
     "start_time": "2019-09-20T17:09:13.727288Z"
    }
   },
   "outputs": [],
   "source": [
    "import yfinance as yf"
   ]
  },
  {
   "attachments": {},
   "cell_type": "markdown",
   "metadata": {},
   "source": [
    "#### Step 3: Import Visualization Package\n",
    "Import the matplotlib `pyplot` module as `plt`. (Write `%matplotlib inline` below the import statement to allow your visualizations to appear beneath the code that generates them)"
   ]
  },
  {
   "cell_type": "code",
   "execution_count": 4,
   "metadata": {
    "ExecuteTime": {
     "end_time": "2019-09-20T17:09:59.493267Z",
     "start_time": "2019-09-20T17:09:59.116556Z"
    }
   },
   "outputs": [],
   "source": [
    "import matplotlib.pyplot as plt\n",
    "%matplotlib inline"
   ]
  },
  {
   "attachments": {},
   "cell_type": "markdown",
   "metadata": {},
   "source": [
    "### 2. Load the adjusted closings for the top 5 tech stocks."
   ]
  },
  {
   "attachments": {},
   "cell_type": "markdown",
   "metadata": {},
   "source": [
    "#### Step 1: Define Stocks\n",
    "Create a list named `symbols` containing the symbols for the top 5 tech stocks.\n",
    "#### Step 2: Create Dates\n",
    "Create a datetime object representing January 1st, 2023 named `start_date` and a datetime object representing July 1st, 2023 named `end_date`.\n",
    "#### Step 3: Retrieve Data\n",
    "Call the function `yf.download()` to pull historical data for multiple stocks. `.download()` should take three arguments &mdash; the first is a positional argument that holds the list of stock symbols for which we'd like to download data. The second and third arguments should be keyword arguments `start` and `end`, which should be set to `start_date` and `end_date` respectively. Save the result to a variable called `stock_data`. You can read more about the `.download()` method on the [yfinance wiki](https://github.com/ranaroussi/yfinance/wiki/Tickers#download)\n",
    "#### Step 4: View Data\n",
    "View both `stock_data` and `stock_data['Adj Close']`. What information is stored in these DataFrames?"
   ]
  },
  {
   "cell_type": "code",
   "execution_count": 5,
   "metadata": {},
   "outputs": [],
   "source": [
    "from datetime import datetime\n",
    "startdate = datetime(2023, 1, 1)\n",
    "enddate = datetime(2023, 7, 1)"
   ]
  },
  {
   "cell_type": "code",
   "execution_count": 6,
   "metadata": {
    "ExecuteTime": {
     "end_time": "2019-09-20T17:30:17.329249Z",
     "start_time": "2019-09-20T17:30:17.193738Z"
    }
   },
   "outputs": [
    {
     "name": "stdout",
     "output_type": "stream",
     "text": [
      "YF.download() has changed argument auto_adjust default to True\n"
     ]
    },
    {
     "name": "stderr",
     "output_type": "stream",
     "text": [
      "[*********************100%***********************]  5 of 5 completed\n"
     ]
    },
    {
     "data": {
      "text/html": [
       "<div>\n",
       "<style scoped>\n",
       "    .dataframe tbody tr th:only-of-type {\n",
       "        vertical-align: middle;\n",
       "    }\n",
       "\n",
       "    .dataframe tbody tr th {\n",
       "        vertical-align: top;\n",
       "    }\n",
       "\n",
       "    .dataframe thead tr th {\n",
       "        text-align: left;\n",
       "    }\n",
       "\n",
       "    .dataframe thead tr:last-of-type th {\n",
       "        text-align: right;\n",
       "    }\n",
       "</style>\n",
       "<table border=\"1\" class=\"dataframe\">\n",
       "  <thead>\n",
       "    <tr>\n",
       "      <th>Price</th>\n",
       "      <th colspan=\"5\" halign=\"left\">Close</th>\n",
       "      <th colspan=\"5\" halign=\"left\">High</th>\n",
       "      <th>...</th>\n",
       "      <th colspan=\"5\" halign=\"left\">Open</th>\n",
       "      <th colspan=\"5\" halign=\"left\">Volume</th>\n",
       "    </tr>\n",
       "    <tr>\n",
       "      <th>Ticker</th>\n",
       "      <th>AAPL</th>\n",
       "      <th>AMZN</th>\n",
       "      <th>GOOGL</th>\n",
       "      <th>META</th>\n",
       "      <th>MSFT</th>\n",
       "      <th>AAPL</th>\n",
       "      <th>AMZN</th>\n",
       "      <th>GOOGL</th>\n",
       "      <th>META</th>\n",
       "      <th>MSFT</th>\n",
       "      <th>...</th>\n",
       "      <th>AAPL</th>\n",
       "      <th>AMZN</th>\n",
       "      <th>GOOGL</th>\n",
       "      <th>META</th>\n",
       "      <th>MSFT</th>\n",
       "      <th>AAPL</th>\n",
       "      <th>AMZN</th>\n",
       "      <th>GOOGL</th>\n",
       "      <th>META</th>\n",
       "      <th>MSFT</th>\n",
       "    </tr>\n",
       "    <tr>\n",
       "      <th>Date</th>\n",
       "      <th></th>\n",
       "      <th></th>\n",
       "      <th></th>\n",
       "      <th></th>\n",
       "      <th></th>\n",
       "      <th></th>\n",
       "      <th></th>\n",
       "      <th></th>\n",
       "      <th></th>\n",
       "      <th></th>\n",
       "      <th></th>\n",
       "      <th></th>\n",
       "      <th></th>\n",
       "      <th></th>\n",
       "      <th></th>\n",
       "      <th></th>\n",
       "      <th></th>\n",
       "      <th></th>\n",
       "      <th></th>\n",
       "      <th></th>\n",
       "      <th></th>\n",
       "    </tr>\n",
       "  </thead>\n",
       "  <tbody>\n",
       "    <tr>\n",
       "      <th>2023-01-03</th>\n",
       "      <td>123.632530</td>\n",
       "      <td>85.820000</td>\n",
       "      <td>88.695953</td>\n",
       "      <td>124.154854</td>\n",
       "      <td>235.240021</td>\n",
       "      <td>129.395518</td>\n",
       "      <td>86.959999</td>\n",
       "      <td>90.616770</td>\n",
       "      <td>125.777212</td>\n",
       "      <td>241.298250</td>\n",
       "      <td>...</td>\n",
       "      <td>128.782649</td>\n",
       "      <td>85.459999</td>\n",
       "      <td>89.163711</td>\n",
       "      <td>122.243862</td>\n",
       "      <td>238.676618</td>\n",
       "      <td>112117500</td>\n",
       "      <td>76706000</td>\n",
       "      <td>28131200</td>\n",
       "      <td>35528500</td>\n",
       "      <td>25740000</td>\n",
       "    </tr>\n",
       "    <tr>\n",
       "      <th>2023-01-04</th>\n",
       "      <td>124.907707</td>\n",
       "      <td>85.139999</td>\n",
       "      <td>87.660896</td>\n",
       "      <td>126.772530</td>\n",
       "      <td>224.949875</td>\n",
       "      <td>127.181276</td>\n",
       "      <td>86.980003</td>\n",
       "      <td>90.218667</td>\n",
       "      <td>128.444649</td>\n",
       "      <td>228.651571</td>\n",
       "      <td>...</td>\n",
       "      <td>125.431615</td>\n",
       "      <td>86.550003</td>\n",
       "      <td>89.920092</td>\n",
       "      <td>126.782477</td>\n",
       "      <td>228.072262</td>\n",
       "      <td>89113600</td>\n",
       "      <td>68885100</td>\n",
       "      <td>34854800</td>\n",
       "      <td>32397100</td>\n",
       "      <td>50623400</td>\n",
       "    </tr>\n",
       "    <tr>\n",
       "      <th>2023-01-05</th>\n",
       "      <td>123.583107</td>\n",
       "      <td>83.120003</td>\n",
       "      <td>85.789848</td>\n",
       "      <td>126.344543</td>\n",
       "      <td>218.282852</td>\n",
       "      <td>126.301500</td>\n",
       "      <td>85.419998</td>\n",
       "      <td>87.153332</td>\n",
       "      <td>127.917134</td>\n",
       "      <td>223.427935</td>\n",
       "      <td>...</td>\n",
       "      <td>125.668857</td>\n",
       "      <td>85.330002</td>\n",
       "      <td>87.053810</td>\n",
       "      <td>125.538338</td>\n",
       "      <td>223.084269</td>\n",
       "      <td>80962700</td>\n",
       "      <td>67930800</td>\n",
       "      <td>27194400</td>\n",
       "      <td>25447100</td>\n",
       "      <td>39585600</td>\n",
       "    </tr>\n",
       "    <tr>\n",
       "      <th>2023-01-06</th>\n",
       "      <td>128.130203</td>\n",
       "      <td>86.080002</td>\n",
       "      <td>86.924408</td>\n",
       "      <td>129.410095</td>\n",
       "      <td>220.855392</td>\n",
       "      <td>128.792501</td>\n",
       "      <td>86.400002</td>\n",
       "      <td>87.272749</td>\n",
       "      <td>129.718639</td>\n",
       "      <td>221.670359</td>\n",
       "      <td>...</td>\n",
       "      <td>124.561702</td>\n",
       "      <td>83.029999</td>\n",
       "      <td>86.377030</td>\n",
       "      <td>128.365018</td>\n",
       "      <td>218.960362</td>\n",
       "      <td>87754700</td>\n",
       "      <td>83303400</td>\n",
       "      <td>41381500</td>\n",
       "      <td>27584500</td>\n",
       "      <td>43613600</td>\n",
       "    </tr>\n",
       "    <tr>\n",
       "      <th>2023-01-09</th>\n",
       "      <td>128.654129</td>\n",
       "      <td>87.360001</td>\n",
       "      <td>87.601173</td>\n",
       "      <td>128.862671</td>\n",
       "      <td>223.005707</td>\n",
       "      <td>131.876670</td>\n",
       "      <td>89.480003</td>\n",
       "      <td>89.621520</td>\n",
       "      <td>132.326342</td>\n",
       "      <td>227.051083</td>\n",
       "      <td>...</td>\n",
       "      <td>128.970458</td>\n",
       "      <td>87.459999</td>\n",
       "      <td>87.939560</td>\n",
       "      <td>130.544746</td>\n",
       "      <td>222.347846</td>\n",
       "      <td>70790800</td>\n",
       "      <td>65266100</td>\n",
       "      <td>29003900</td>\n",
       "      <td>26649100</td>\n",
       "      <td>27369800</td>\n",
       "    </tr>\n",
       "    <tr>\n",
       "      <th>...</th>\n",
       "      <td>...</td>\n",
       "      <td>...</td>\n",
       "      <td>...</td>\n",
       "      <td>...</td>\n",
       "      <td>...</td>\n",
       "      <td>...</td>\n",
       "      <td>...</td>\n",
       "      <td>...</td>\n",
       "      <td>...</td>\n",
       "      <td>...</td>\n",
       "      <td>...</td>\n",
       "      <td>...</td>\n",
       "      <td>...</td>\n",
       "      <td>...</td>\n",
       "      <td>...</td>\n",
       "      <td>...</td>\n",
       "      <td>...</td>\n",
       "      <td>...</td>\n",
       "      <td>...</td>\n",
       "      <td>...</td>\n",
       "      <td>...</td>\n",
       "    </tr>\n",
       "    <tr>\n",
       "      <th>2023-06-26</th>\n",
       "      <td>183.673950</td>\n",
       "      <td>127.330002</td>\n",
       "      <td>117.776909</td>\n",
       "      <td>277.163727</td>\n",
       "      <td>324.162689</td>\n",
       "      <td>186.430000</td>\n",
       "      <td>131.490005</td>\n",
       "      <td>121.419497</td>\n",
       "      <td>288.430633</td>\n",
       "      <td>331.571256</td>\n",
       "      <td>...</td>\n",
       "      <td>185.220509</td>\n",
       "      <td>129.330002</td>\n",
       "      <td>120.185400</td>\n",
       "      <td>287.345750</td>\n",
       "      <td>329.213545</td>\n",
       "      <td>48088700</td>\n",
       "      <td>59989300</td>\n",
       "      <td>33969900</td>\n",
       "      <td>24232700</td>\n",
       "      <td>21520600</td>\n",
       "    </tr>\n",
       "    <tr>\n",
       "      <th>2023-06-27</th>\n",
       "      <td>186.439941</td>\n",
       "      <td>129.179993</td>\n",
       "      <td>117.766968</td>\n",
       "      <td>285.703491</td>\n",
       "      <td>330.052032</td>\n",
       "      <td>186.767100</td>\n",
       "      <td>130.089996</td>\n",
       "      <td>118.513399</td>\n",
       "      <td>287.992721</td>\n",
       "      <td>331.610683</td>\n",
       "      <td>...</td>\n",
       "      <td>184.288637</td>\n",
       "      <td>128.630005</td>\n",
       "      <td>116.522915</td>\n",
       "      <td>280.687155</td>\n",
       "      <td>327.378606</td>\n",
       "      <td>50730800</td>\n",
       "      <td>46801000</td>\n",
       "      <td>39535900</td>\n",
       "      <td>26108300</td>\n",
       "      <td>24354100</td>\n",
       "    </tr>\n",
       "    <tr>\n",
       "      <th>2023-06-28</th>\n",
       "      <td>187.619675</td>\n",
       "      <td>129.039993</td>\n",
       "      <td>119.608162</td>\n",
       "      <td>283.951752</td>\n",
       "      <td>331.314728</td>\n",
       "      <td>188.264069</td>\n",
       "      <td>131.479996</td>\n",
       "      <td>119.817162</td>\n",
       "      <td>288.191748</td>\n",
       "      <td>333.415969</td>\n",
       "      <td>...</td>\n",
       "      <td>186.311039</td>\n",
       "      <td>128.940002</td>\n",
       "      <td>116.532861</td>\n",
       "      <td>283.483955</td>\n",
       "      <td>330.140795</td>\n",
       "      <td>51216800</td>\n",
       "      <td>52149500</td>\n",
       "      <td>27091400</td>\n",
       "      <td>16722100</td>\n",
       "      <td>20259500</td>\n",
       "    </tr>\n",
       "    <tr>\n",
       "      <th>2023-06-29</th>\n",
       "      <td>187.956726</td>\n",
       "      <td>127.900002</td>\n",
       "      <td>118.533295</td>\n",
       "      <td>280.209381</td>\n",
       "      <td>330.525574</td>\n",
       "      <td>188.432602</td>\n",
       "      <td>129.259995</td>\n",
       "      <td>119.488726</td>\n",
       "      <td>285.225748</td>\n",
       "      <td>331.571257</td>\n",
       "      <td>...</td>\n",
       "      <td>187.451125</td>\n",
       "      <td>128.770004</td>\n",
       "      <td>118.672628</td>\n",
       "      <td>283.165450</td>\n",
       "      <td>330.190169</td>\n",
       "      <td>46347300</td>\n",
       "      <td>40761000</td>\n",
       "      <td>24090900</td>\n",
       "      <td>15395700</td>\n",
       "      <td>16997000</td>\n",
       "    </tr>\n",
       "    <tr>\n",
       "      <th>2023-06-30</th>\n",
       "      <td>192.298996</td>\n",
       "      <td>130.360001</td>\n",
       "      <td>119.130432</td>\n",
       "      <td>285.633820</td>\n",
       "      <td>335.941437</td>\n",
       "      <td>192.804597</td>\n",
       "      <td>131.250000</td>\n",
       "      <td>120.503871</td>\n",
       "      <td>287.694086</td>\n",
       "      <td>338.101866</td>\n",
       "      <td>...</td>\n",
       "      <td>189.979158</td>\n",
       "      <td>129.470001</td>\n",
       "      <td>119.598197</td>\n",
       "      <td>283.424232</td>\n",
       "      <td>333.189104</td>\n",
       "      <td>85069600</td>\n",
       "      <td>54310500</td>\n",
       "      <td>29519700</td>\n",
       "      <td>19676000</td>\n",
       "      <td>26823800</td>\n",
       "    </tr>\n",
       "  </tbody>\n",
       "</table>\n",
       "<p>124 rows × 25 columns</p>\n",
       "</div>"
      ],
      "text/plain": [
       "Price            Close                                                  \\\n",
       "Ticker            AAPL        AMZN       GOOGL        META        MSFT   \n",
       "Date                                                                     \n",
       "2023-01-03  123.632530   85.820000   88.695953  124.154854  235.240021   \n",
       "2023-01-04  124.907707   85.139999   87.660896  126.772530  224.949875   \n",
       "2023-01-05  123.583107   83.120003   85.789848  126.344543  218.282852   \n",
       "2023-01-06  128.130203   86.080002   86.924408  129.410095  220.855392   \n",
       "2023-01-09  128.654129   87.360001   87.601173  128.862671  223.005707   \n",
       "...                ...         ...         ...         ...         ...   \n",
       "2023-06-26  183.673950  127.330002  117.776909  277.163727  324.162689   \n",
       "2023-06-27  186.439941  129.179993  117.766968  285.703491  330.052032   \n",
       "2023-06-28  187.619675  129.039993  119.608162  283.951752  331.314728   \n",
       "2023-06-29  187.956726  127.900002  118.533295  280.209381  330.525574   \n",
       "2023-06-30  192.298996  130.360001  119.130432  285.633820  335.941437   \n",
       "\n",
       "Price             High                                                  ...  \\\n",
       "Ticker            AAPL        AMZN       GOOGL        META        MSFT  ...   \n",
       "Date                                                                    ...   \n",
       "2023-01-03  129.395518   86.959999   90.616770  125.777212  241.298250  ...   \n",
       "2023-01-04  127.181276   86.980003   90.218667  128.444649  228.651571  ...   \n",
       "2023-01-05  126.301500   85.419998   87.153332  127.917134  223.427935  ...   \n",
       "2023-01-06  128.792501   86.400002   87.272749  129.718639  221.670359  ...   \n",
       "2023-01-09  131.876670   89.480003   89.621520  132.326342  227.051083  ...   \n",
       "...                ...         ...         ...         ...         ...  ...   \n",
       "2023-06-26  186.430000  131.490005  121.419497  288.430633  331.571256  ...   \n",
       "2023-06-27  186.767100  130.089996  118.513399  287.992721  331.610683  ...   \n",
       "2023-06-28  188.264069  131.479996  119.817162  288.191748  333.415969  ...   \n",
       "2023-06-29  188.432602  129.259995  119.488726  285.225748  331.571257  ...   \n",
       "2023-06-30  192.804597  131.250000  120.503871  287.694086  338.101866  ...   \n",
       "\n",
       "Price             Open                                                  \\\n",
       "Ticker            AAPL        AMZN       GOOGL        META        MSFT   \n",
       "Date                                                                     \n",
       "2023-01-03  128.782649   85.459999   89.163711  122.243862  238.676618   \n",
       "2023-01-04  125.431615   86.550003   89.920092  126.782477  228.072262   \n",
       "2023-01-05  125.668857   85.330002   87.053810  125.538338  223.084269   \n",
       "2023-01-06  124.561702   83.029999   86.377030  128.365018  218.960362   \n",
       "2023-01-09  128.970458   87.459999   87.939560  130.544746  222.347846   \n",
       "...                ...         ...         ...         ...         ...   \n",
       "2023-06-26  185.220509  129.330002  120.185400  287.345750  329.213545   \n",
       "2023-06-27  184.288637  128.630005  116.522915  280.687155  327.378606   \n",
       "2023-06-28  186.311039  128.940002  116.532861  283.483955  330.140795   \n",
       "2023-06-29  187.451125  128.770004  118.672628  283.165450  330.190169   \n",
       "2023-06-30  189.979158  129.470001  119.598197  283.424232  333.189104   \n",
       "\n",
       "Price          Volume                                          \n",
       "Ticker           AAPL      AMZN     GOOGL      META      MSFT  \n",
       "Date                                                           \n",
       "2023-01-03  112117500  76706000  28131200  35528500  25740000  \n",
       "2023-01-04   89113600  68885100  34854800  32397100  50623400  \n",
       "2023-01-05   80962700  67930800  27194400  25447100  39585600  \n",
       "2023-01-06   87754700  83303400  41381500  27584500  43613600  \n",
       "2023-01-09   70790800  65266100  29003900  26649100  27369800  \n",
       "...               ...       ...       ...       ...       ...  \n",
       "2023-06-26   48088700  59989300  33969900  24232700  21520600  \n",
       "2023-06-27   50730800  46801000  39535900  26108300  24354100  \n",
       "2023-06-28   51216800  52149500  27091400  16722100  20259500  \n",
       "2023-06-29   46347300  40761000  24090900  15395700  16997000  \n",
       "2023-06-30   85069600  54310500  29519700  19676000  26823800  \n",
       "\n",
       "[124 rows x 25 columns]"
      ]
     },
     "execution_count": 6,
     "metadata": {},
     "output_type": "execute_result"
    }
   ],
   "source": [
    "symbols = ['MSFT', 'AMZN', 'AAPL', 'GOOGL', 'META']\n",
    "\n",
    "stock_data = yf.download(symbols, start=startdate, end=enddate)\n",
    "stock_data"
   ]
  },
  {
   "cell_type": "code",
   "execution_count": 7,
   "metadata": {},
   "outputs": [
    {
     "data": {
      "text/html": [
       "<div>\n",
       "<style scoped>\n",
       "    .dataframe tbody tr th:only-of-type {\n",
       "        vertical-align: middle;\n",
       "    }\n",
       "\n",
       "    .dataframe tbody tr th {\n",
       "        vertical-align: top;\n",
       "    }\n",
       "\n",
       "    .dataframe thead th {\n",
       "        text-align: right;\n",
       "    }\n",
       "</style>\n",
       "<table border=\"1\" class=\"dataframe\">\n",
       "  <thead>\n",
       "    <tr style=\"text-align: right;\">\n",
       "      <th>Ticker</th>\n",
       "      <th>AAPL</th>\n",
       "      <th>AMZN</th>\n",
       "      <th>GOOGL</th>\n",
       "      <th>META</th>\n",
       "      <th>MSFT</th>\n",
       "    </tr>\n",
       "    <tr>\n",
       "      <th>Date</th>\n",
       "      <th></th>\n",
       "      <th></th>\n",
       "      <th></th>\n",
       "      <th></th>\n",
       "      <th></th>\n",
       "    </tr>\n",
       "  </thead>\n",
       "  <tbody>\n",
       "    <tr>\n",
       "      <th>2023-01-03</th>\n",
       "      <td>123.632530</td>\n",
       "      <td>85.820000</td>\n",
       "      <td>88.695953</td>\n",
       "      <td>124.154854</td>\n",
       "      <td>235.240021</td>\n",
       "    </tr>\n",
       "    <tr>\n",
       "      <th>2023-01-04</th>\n",
       "      <td>124.907707</td>\n",
       "      <td>85.139999</td>\n",
       "      <td>87.660896</td>\n",
       "      <td>126.772530</td>\n",
       "      <td>224.949875</td>\n",
       "    </tr>\n",
       "    <tr>\n",
       "      <th>2023-01-05</th>\n",
       "      <td>123.583107</td>\n",
       "      <td>83.120003</td>\n",
       "      <td>85.789848</td>\n",
       "      <td>126.344543</td>\n",
       "      <td>218.282852</td>\n",
       "    </tr>\n",
       "    <tr>\n",
       "      <th>2023-01-06</th>\n",
       "      <td>128.130203</td>\n",
       "      <td>86.080002</td>\n",
       "      <td>86.924408</td>\n",
       "      <td>129.410095</td>\n",
       "      <td>220.855392</td>\n",
       "    </tr>\n",
       "    <tr>\n",
       "      <th>2023-01-09</th>\n",
       "      <td>128.654129</td>\n",
       "      <td>87.360001</td>\n",
       "      <td>87.601173</td>\n",
       "      <td>128.862671</td>\n",
       "      <td>223.005707</td>\n",
       "    </tr>\n",
       "    <tr>\n",
       "      <th>...</th>\n",
       "      <td>...</td>\n",
       "      <td>...</td>\n",
       "      <td>...</td>\n",
       "      <td>...</td>\n",
       "      <td>...</td>\n",
       "    </tr>\n",
       "    <tr>\n",
       "      <th>2023-06-26</th>\n",
       "      <td>183.673950</td>\n",
       "      <td>127.330002</td>\n",
       "      <td>117.776909</td>\n",
       "      <td>277.163727</td>\n",
       "      <td>324.162689</td>\n",
       "    </tr>\n",
       "    <tr>\n",
       "      <th>2023-06-27</th>\n",
       "      <td>186.439941</td>\n",
       "      <td>129.179993</td>\n",
       "      <td>117.766968</td>\n",
       "      <td>285.703491</td>\n",
       "      <td>330.052032</td>\n",
       "    </tr>\n",
       "    <tr>\n",
       "      <th>2023-06-28</th>\n",
       "      <td>187.619675</td>\n",
       "      <td>129.039993</td>\n",
       "      <td>119.608162</td>\n",
       "      <td>283.951752</td>\n",
       "      <td>331.314728</td>\n",
       "    </tr>\n",
       "    <tr>\n",
       "      <th>2023-06-29</th>\n",
       "      <td>187.956726</td>\n",
       "      <td>127.900002</td>\n",
       "      <td>118.533295</td>\n",
       "      <td>280.209381</td>\n",
       "      <td>330.525574</td>\n",
       "    </tr>\n",
       "    <tr>\n",
       "      <th>2023-06-30</th>\n",
       "      <td>192.298996</td>\n",
       "      <td>130.360001</td>\n",
       "      <td>119.130432</td>\n",
       "      <td>285.633820</td>\n",
       "      <td>335.941437</td>\n",
       "    </tr>\n",
       "  </tbody>\n",
       "</table>\n",
       "<p>124 rows × 5 columns</p>\n",
       "</div>"
      ],
      "text/plain": [
       "Ticker            AAPL        AMZN       GOOGL        META        MSFT\n",
       "Date                                                                  \n",
       "2023-01-03  123.632530   85.820000   88.695953  124.154854  235.240021\n",
       "2023-01-04  124.907707   85.139999   87.660896  126.772530  224.949875\n",
       "2023-01-05  123.583107   83.120003   85.789848  126.344543  218.282852\n",
       "2023-01-06  128.130203   86.080002   86.924408  129.410095  220.855392\n",
       "2023-01-09  128.654129   87.360001   87.601173  128.862671  223.005707\n",
       "...                ...         ...         ...         ...         ...\n",
       "2023-06-26  183.673950  127.330002  117.776909  277.163727  324.162689\n",
       "2023-06-27  186.439941  129.179993  117.766968  285.703491  330.052032\n",
       "2023-06-28  187.619675  129.039993  119.608162  283.951752  331.314728\n",
       "2023-06-29  187.956726  127.900002  118.533295  280.209381  330.525574\n",
       "2023-06-30  192.298996  130.360001  119.130432  285.633820  335.941437\n",
       "\n",
       "[124 rows x 5 columns]"
      ]
     },
     "execution_count": 7,
     "metadata": {},
     "output_type": "execute_result"
    }
   ],
   "source": [
    "stock_data.Close"
   ]
  },
  {
   "attachments": {},
   "cell_type": "markdown",
   "metadata": {},
   "source": [
    "### 3. Plot the adjusted closing prices over time."
   ]
  },
  {
   "attachments": {},
   "cell_type": "markdown",
   "metadata": {},
   "source": [
    "Create a plot with matplotlib that shows the adjusted closing prices of each stock over time. Set the x label to `\"Date\"`. Set the y label to `\"Adjusted Closing Price Over Time\"`. Set the graph title to `\"Tech Stocks Adjusted Price\"`."
   ]
  },
  {
   "cell_type": "code",
   "execution_count": 11,
   "metadata": {
    "ExecuteTime": {
     "end_time": "2019-09-20T17:41:01.873022Z",
     "start_time": "2019-09-20T17:41:01.687043Z"
    }
   },
   "outputs": [
    {
     "data": {
      "image/png": "[encoded data removed]",
      "text/plain": [
       "<Figure size 640x480 with 1 Axes>"
      ]
     },
     "metadata": {},
     "output_type": "display_data"
    }
   ],
   "source": [
    "plt.plot(stock_data.Close)\n",
    "plt.title(\"Tech Stocks Close Price\")\n",
    "plt.xlabel(\"Date\")\n",
    "plt.legend(symbols)\n",
    "plt.show()\n",
    "%matplotlib inline"
   ]
  },
  {
   "attachments": {},
   "cell_type": "markdown",
   "metadata": {},
   "source": [
    "### 4. Calculate and plot the daily simple rate of return over time.\n",
    "Create a plot with matplotlib that shows the daily simple rate of return for each tech stock over time. Label the graph appropriately. "
   ]
  },
  {
   "cell_type": "code",
   "execution_count": 16,
   "metadata": {
    "ExecuteTime": {
     "end_time": "2019-09-20T17:41:17.173004Z",
     "start_time": "2019-09-20T17:41:16.974468Z"
    }
   },
   "outputs": [
    {
     "data": {
      "image/png": "[encoded data removed]",
      "text/plain": [
       "<Figure size 640x480 with 1 Axes>"
      ]
     },
     "metadata": {},
     "output_type": "display_data"
    }
   ],
   "source": [
    "simpleror = stock_data.Close.pct_change()\n",
    "simpleror\n",
    "\n",
    "simpleror.plot()\n",
    "plt.title(\"Daily Simple Rate of Return\")\n",
    "plt.show()\n"
   ]
  },
  {
   "attachments": {},
   "cell_type": "markdown",
   "metadata": {},
   "source": [
    "### 5. Create subplots of daily simple rate of return.\n",
    "In order to better visualize the daily returns, create a subplot for each tech stock. "
   ]
  },
  {
   "cell_type": "code",
   "execution_count": null,
   "metadata": {
    "ExecuteTime": {
     "end_time": "2019-09-20T17:41:36.728365Z",
     "start_time": "2019-09-20T17:41:36.399525Z"
    }
   },
   "outputs": [],
   "source": []
  },
  {
   "attachments": {},
   "cell_type": "markdown",
   "metadata": {},
   "source": [
    "### 6. Calculate and plot the mean of each tech stock's daily simple rate of return"
   ]
  },
  {
   "attachments": {},
   "cell_type": "markdown",
   "metadata": {},
   "source": [
    "#### Step 1: Calculate mean rate of return\n",
    "For each stock, calculate the mean daily simple rate of return.\n",
    "#### Step 2: Plot bar chart\n",
    "Use matplotlib to create a bar chart comparing the mean daily simple rate of return for each stock. Label the chart appropriately. \n",
    "#### Step 3: Analyze mean rate of return\n",
    "Based on the mean rate of return, which stock would be the best option to invest in?"
   ]
  },
  {
   "cell_type": "code",
   "execution_count": null,
   "metadata": {
    "ExecuteTime": {
     "end_time": "2019-09-20T17:50:13.182578Z",
     "start_time": "2019-09-20T17:50:13.175588Z"
    }
   },
   "outputs": [],
   "source": []
  },
  {
   "cell_type": "code",
   "execution_count": null,
   "metadata": {
    "ExecuteTime": {
     "end_time": "2019-09-20T17:50:14.237866Z",
     "start_time": "2019-09-20T17:50:14.231200Z"
    }
   },
   "outputs": [],
   "source": []
  },
  {
   "cell_type": "code",
   "execution_count": null,
   "metadata": {
    "ExecuteTime": {
     "end_time": "2019-09-20T17:50:45.153005Z",
     "start_time": "2019-09-20T17:50:45.142751Z"
    }
   },
   "outputs": [],
   "source": []
  },
  {
   "cell_type": "code",
   "execution_count": null,
   "metadata": {
    "ExecuteTime": {
     "end_time": "2019-09-20T17:51:02.403534Z",
     "start_time": "2019-09-20T17:51:02.390502Z"
    }
   },
   "outputs": [],
   "source": []
  },
  {
   "cell_type": "code",
   "execution_count": null,
   "metadata": {
    "ExecuteTime": {
     "end_time": "2019-09-20T17:51:12.379757Z",
     "start_time": "2019-09-20T17:51:12.264416Z"
    }
   },
   "outputs": [],
   "source": []
  },
  {
   "attachments": {},
   "cell_type": "markdown",
   "metadata": {},
   "source": []
  },
  {
   "attachments": {},
   "cell_type": "markdown",
   "metadata": {},
   "source": [
    "### 7. Calculate and plot the variance."
   ]
  },
  {
   "attachments": {},
   "cell_type": "markdown",
   "metadata": {},
   "source": [
    "#### Step 1: Calculate the variance\n",
    "For each stock, calculate the variance of the mean daily simple rate of return.\n",
    "#### Step 2: Plot bar chart\n",
    "Use matplotlib to create a bar chart comparing the variance for each stock. Label the chart appropriately. \n",
    "#### Step 3: Analyse the variance\n",
    "Based on the variance, which stock would be the riskiest to invest in?"
   ]
  },
  {
   "cell_type": "code",
   "execution_count": null,
   "metadata": {
    "ExecuteTime": {
     "end_time": "2019-09-20T17:54:01.096986Z",
     "start_time": "2019-09-20T17:54:01.081944Z"
    }
   },
   "outputs": [],
   "source": []
  },
  {
   "cell_type": "code",
   "execution_count": null,
   "metadata": {},
   "outputs": [],
   "source": []
  },
  {
   "cell_type": "code",
   "execution_count": null,
   "metadata": {
    "ExecuteTime": {
     "end_time": "2019-09-20T17:54:43.221113Z",
     "start_time": "2019-09-20T17:54:43.212348Z"
    }
   },
   "outputs": [],
   "source": []
  },
  {
   "cell_type": "code",
   "execution_count": null,
   "metadata": {
    "ExecuteTime": {
     "end_time": "2019-09-20T17:54:52.917645Z",
     "start_time": "2019-09-20T17:54:52.910996Z"
    }
   },
   "outputs": [],
   "source": []
  },
  {
   "cell_type": "code",
   "execution_count": null,
   "metadata": {
    "ExecuteTime": {
     "end_time": "2019-09-20T17:55:30.943434Z",
     "start_time": "2019-09-20T17:55:30.796988Z"
    }
   },
   "outputs": [],
   "source": []
  },
  {
   "attachments": {},
   "cell_type": "markdown",
   "metadata": {},
   "source": []
  },
  {
   "attachments": {},
   "cell_type": "markdown",
   "metadata": {},
   "source": [
    "### 8. Calculate and plot the standard deviation"
   ]
  },
  {
   "attachments": {},
   "cell_type": "markdown",
   "metadata": {},
   "source": [
    "#### Step 1: Calculate the standard deviation\n",
    "For each stock, calculate the standard deviation of the mean daily simple rate of return.\n",
    "\n",
    "#### Step 2: Plot the bar chart\n",
    "Use matplotlib to create a bar chart comparing the standard deviation of the mean daily simple rate of return of each stock. Label the chart appropriately. \n",
    "\n",
    "#### Step 3: Analyze the standard deviation\n",
    "Based on the standard deviation of the rates of return, which stock would you choose to invest in and why?"
   ]
  },
  {
   "cell_type": "code",
   "execution_count": null,
   "metadata": {
    "ExecuteTime": {
     "end_time": "2019-09-20T17:56:59.249270Z",
     "start_time": "2019-09-20T17:56:59.242409Z"
    }
   },
   "outputs": [],
   "source": []
  },
  {
   "cell_type": "code",
   "execution_count": null,
   "metadata": {},
   "outputs": [],
   "source": []
  },
  {
   "cell_type": "code",
   "execution_count": null,
   "metadata": {
    "ExecuteTime": {
     "end_time": "2019-09-20T17:57:13.116345Z",
     "start_time": "2019-09-20T17:57:13.110010Z"
    }
   },
   "outputs": [],
   "source": []
  },
  {
   "cell_type": "code",
   "execution_count": null,
   "metadata": {
    "ExecuteTime": {
     "end_time": "2019-09-20T17:57:21.959802Z",
     "start_time": "2019-09-20T17:57:21.950483Z"
    }
   },
   "outputs": [],
   "source": []
  },
  {
   "cell_type": "code",
   "execution_count": null,
   "metadata": {
    "ExecuteTime": {
     "end_time": "2019-09-20T17:57:35.824949Z",
     "start_time": "2019-09-20T17:57:35.725823Z"
    }
   },
   "outputs": [],
   "source": []
  },
  {
   "attachments": {},
   "cell_type": "markdown",
   "metadata": {
    "ExecuteTime": {
     "end_time": "2019-09-20T18:20:15.272923Z",
     "start_time": "2019-09-20T18:20:15.108312Z"
    }
   },
   "source": []
  },
  {
   "attachments": {},
   "cell_type": "markdown",
   "metadata": {},
   "source": [
    "### 9. Calculate the correlations\n",
    "Calculate the correlations between each of the stocks. Which stocks are positively correlated? Which are negatively correlated? Which have little correlation?"
   ]
  },
  {
   "cell_type": "code",
   "execution_count": null,
   "metadata": {
    "ExecuteTime": {
     "end_time": "2019-09-20T18:20:31.790079Z",
     "start_time": "2019-09-20T18:20:31.774044Z"
    }
   },
   "outputs": [],
   "source": []
  },
  {
   "attachments": {},
   "cell_type": "markdown",
   "metadata": {},
   "source": []
  }
 ],
 "metadata": {
  "kernelspec": {
   "display_name": "Python 3 (ipykernel)",
   "language": "python",
   "name": "python3"
  },
  "language_info": {
   "codemirror_mode": {
    "name": "ipython",
    "version": 3
   },
   "file_extension": ".py",
   "mimetype": "text/x-python",
   "name": "python",
   "nbconvert_exporter": "python",
   "pygments_lexer": "ipython3",
   "version": "3.11.2"
  },
  "latex_envs": {
   "LaTeX_envs_menu_present": true,
   "autoclose": false,
   "autocomplete": true,
   "bibliofile": "biblio.bib",
   "cite_by": "apalike",
   "current_citInitial": 1,
   "eqLabelWithNumbers": true,
   "eqNumInitial": 1,
   "hotkeys": {
    "equation": "Ctrl-E",
    "itemize": "Ctrl-I"
   },
   "labels_anchors": false,
   "latex_user_defs": false,
   "report_style_numbering": false,
   "user_envs_cfg": false
  }
 },
 "nbformat": 4,
 "nbformat_minor": 4
}
